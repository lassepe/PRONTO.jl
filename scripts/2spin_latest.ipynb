{
 "cells": [
  {
   "cell_type": "code",
   "execution_count": 1,
   "id": "9f603baf",
   "metadata": {},
   "outputs": [],
   "source": [
    "using DifferentialEquations\n",
    "using LinearAlgebra\n",
    "using Plots\n",
    "using DataInterpolations\n",
    "using Symbolics\n",
    "using Symbolics: derivative\n",
    "using WindowFunctions"
   ]
  },
  {
   "cell_type": "code",
   "execution_count": 2,
   "id": "6d8f6f77",
   "metadata": {},
   "outputs": [
    {
     "data": {
      "text/plain": [
       "inprod (generic function with 1 method)"
      ]
     },
     "execution_count": 2,
     "metadata": {},
     "output_type": "execute_result"
    }
   ],
   "source": [
    "function mprod(x)\n",
    "    Re = I(2)  \n",
    "    Im = [0 -1;\n",
    "           1 0]   \n",
    "    M = kron(Re,real(x)) + kron(Im,imag(x));\n",
    "    return M   \n",
    "end\n",
    "\n",
    "function inprod(x)\n",
    "    a = x[1:n]\n",
    "    b = x[(n+1):(2*n)]\n",
    "    P = [a*a'+b*b' -(a*b'+b*a');\n",
    "         a*b'+b*a' a*a'+b*b']\n",
    "    return P\n",
    "end"
   ]
  },
  {
   "cell_type": "code",
   "execution_count": 3,
   "id": "2e7ae785",
   "metadata": {},
   "outputs": [
    {
     "data": {
      "text/plain": [
       "4×4 Matrix{Float64}:\n",
       " 0.0  0.0  0.0  0.0\n",
       " 0.0  1.0  0.0  0.0\n",
       " 0.0  0.0  0.0  0.0\n",
       " 0.0  0.0  0.0  1.0"
      ]
     },
     "execution_count": 3,
     "metadata": {},
     "output_type": "execute_result"
    }
   ],
   "source": [
    "n = 2\n",
    "m = 1\n",
    "\n",
    "H0 = [1 0;\n",
    "     0 -1]\n",
    "\n",
    "H1 = [0 -1im;\n",
    "      1im 0]\n",
    "\n",
    "\n",
    "nu = eigvecs(H0)\n",
    "nu1 = nu[:,1]\n",
    "nu2 = nu[:,2]\n",
    "\n",
    "x0 = [nu1;0*nu1]\n",
    "xf = [nu2;0*nu2]\n",
    "\n",
    "Qe = I(2*n) - inprod(xf)\n",
    "Qm = 0.0\n",
    "\n",
    "# Pf = 1.6322*(I(2*n) - inprod(xf))\n",
    "Pf = I(2*n) - inprod(xf)"
   ]
  },
  {
   "cell_type": "code",
   "execution_count": 4,
   "id": "e236c9a7",
   "metadata": {},
   "outputs": [
    {
     "data": {
      "text/plain": [
       "#28 (generic function with 1 method)"
      ]
     },
     "execution_count": 4,
     "metadata": {},
     "output_type": "execute_result"
    }
   ],
   "source": [
    "@variables xx[1:(2*n)] uu[1:m] qq[1:(2*n)]\n",
    "\n",
    "f(xx,uu) = collect(mprod(-1im*(H0 + uu[1]*H1))*xx)\n",
    "\n",
    "l(xx,uu) = 0.01/2*(uu[1]^2) + Qm*1/2*(xx[2]^2 + xx[4]^2)\n",
    "\n",
    "# M(xx) = 1/2*xx'*Pf*xx\n",
    "λ\n",
    "L(xx,uu,qq) = collect(l(xx,uu) + transpose(qq)*f(xx,uu))\n",
    "\n",
    "function jacobian(dx, f, args...; inplace = false)\n",
    "    f_sym = f(args...)\n",
    "    fx_sym = cat(map(1:length(dx)) do i\n",
    "        map(1:length(f_sym)) do j\n",
    "            derivative(f_sym[j], dx[i])\n",
    "        end\n",
    "    end...; dims = ndims(f_sym)+1)\n",
    "\n",
    "    return eval(build_function(fx_sym, args...)[inplace ? 2 : 1])\n",
    "end\n",
    "\n",
    "fx = jacobian(xx, f, xx, uu)\n",
    "fu = jacobian(uu, f, xx, uu)\n",
    "\n",
    "\n",
    "lx = jacobian(xx, l, xx, uu)\n",
    "lu = jacobian(uu, l, xx, uu)\n",
    "\n",
    "lxx = jacobian(xx, lx, xx, uu)\n",
    "lxu = jacobian(uu, lx, xx, uu)\n",
    "luu = jacobian(uu, lu, xx, uu)\n",
    "\n",
    "Lx = jacobian(xx, L, xx, uu, qq)\n",
    "Lu = jacobian(uu, L, xx, uu, qq)\n",
    "\n",
    "Lxx = jacobian(xx, Lx, xx, uu, qq)\n",
    "Lxu = jacobian(uu, Lx, xx, uu, qq)\n",
    "Luu = jacobian(uu, Lu, xx, uu, qq)\n",
    "\n",
    "# Mx = jacobian(xx, M, xx)\n",
    "# Mxx = jacobian(xx, Mx, xx)"
   ]
  },
  {
   "cell_type": "code",
   "execution_count": 5,
   "id": "ec347a78",
   "metadata": {},
   "outputs": [
    {
     "data": {
      "text/plain": [
       "Pr (generic function with 1 method)"
      ]
     },
     "execution_count": 5,
     "metadata": {},
     "output_type": "execute_result"
    }
   ],
   "source": [
    "T = 10\n",
    "tspan = (0.0,T)\n",
    "tt = 0:0.001:T\n",
    "\n",
    "# mu = LinearInterpolation(zeros(m, length(tt)), tt)\n",
    "# mu = LinearInterpolation(hcat(map(t->[0.05*sin(t); 0; 0.05*sin(t); 0], tt)...), tt)\n",
    "# u_guess = zeros(4,length(tt))\n",
    "# u_guess[1,401:end] = 5*blackman(601)\n",
    "# u_guess[3,1:601] = 5*blackman(601)\n",
    "mu = LinearInterpolation(hcat(map(t->0.05*sin(t), tt)...), tt)\n",
    "\n",
    "\n",
    "dal(al,_,t) = f(al,mu(t))\n",
    "al0 = x0\n",
    "al = solve(ODEProblem(dal,al0,tspan))\n",
    "\n",
    "Pr_terminal(al) = I(2*n) - inprod(al)\n",
    "Ar(t) = fx(al(t),mu(t))\n",
    "Br(t) = fu(al(t),mu(t))\n",
    "Qr(t) = I(2*n) - inprod(al(t))\n",
    "Rr(t) = 1\n",
    "\n",
    "Kr(Pr,Rr,Br)= Rr\\(Br'*Pr)\n",
    "Kr(t) = Kr(Pr(t),Rr(t),Br(t))\n",
    "\n",
    "dPr(Pr,_,t) = Ar(T-t)'*Pr + Pr*Ar(T-t) - Kr(Pr,Rr(T-t),Br(T-t))'*Rr(T-t)*Kr(Pr,Rr(T-t),Br(T-t)) + Qr(T-t)\n",
    "Pr(t) = Pr_back(T-t)"
   ]
  },
  {
   "cell_type": "code",
   "execution_count": 6,
   "id": "c5ad2413",
   "metadata": {},
   "outputs": [
    {
     "data": {
      "text/plain": [
       "Ro (generic function with 1 method)"
      ]
     },
     "execution_count": 6,
     "metadata": {},
     "output_type": "execute_result"
    }
   ],
   "source": [
    "u(x,Kr,al,mu) = mu - (Kr*(x - al))\n",
    "u(t) = u(x(t),Kr(t),al(t),mu(t))\n",
    "    \n",
    "dx(x,_,t) = f(x,u(x,Kr(Pr(t),Rr(t),Br(t)),al(t),mu(t)))\n",
    "\n",
    "dJ(_,_,t) = 0.01/2*u(t)'*u(t) + Qm*1/2*x(t)'*Qe*x(t)\n",
    "\n",
    "P_terminal = Pf\n",
    "\n",
    "A(t) = fx(x(t),u(t))\n",
    "B(t) = fu(x(t),u(t))\n",
    "a(t) = lx(x(t),u(t))\n",
    "b(t) = lu(x(t),u(t))\n",
    "Q(t) = lxx(x(t),u(t))\n",
    "S(t) = lxu(x(t),u(t))\n",
    "R(t) = luu(x(t),u(t))\n",
    "\n",
    "dq(q,_,t) = (A(T-t) - B(T-t)*Kr(T-t))'*q + a(T-t) - Kr(T-t)'*b(T-t)\n",
    "q(t) = q_back(T-t)\n",
    "# qT(al) = Mx(al)' \n",
    "\n",
    "\n",
    "Qo(t) = Lxx(x(t),u(t),q(t))\n",
    "So(t) = Lxu(x(t),u(t),q(t))\n",
    "Ro(t) = Luu(x(t),u(t),q(t))"
   ]
  },
  {
   "cell_type": "code",
   "execution_count": 7,
   "id": "66ac26c3",
   "metadata": {},
   "outputs": [
    {
     "data": {
      "text/plain": [
       "dJ1 (generic function with 1 method)"
      ]
     },
     "execution_count": 7,
     "metadata": {},
     "output_type": "execute_result"
    }
   ],
   "source": [
    "# GD\n",
    "Ko(P,R,S,B)= R\\(S' + B'*P)\n",
    "\n",
    "Ko(t) = Ko(P(t),R(t),S(t),B(t))\n",
    "\n",
    "dP(P,_,t) = A(T-t)'*P + P*A(T-t) - Ko(P,R(T-t),S(T-t),B(T-t))'*R(T-t)*Ko(P,R(T-t),S(T-t),B(T-t)) + Q(T-t)\n",
    "P(t)=P_back(T-t)\n",
    "\n",
    "PT = Pf\n",
    "\n",
    "dr(r,_,t) = (A(T-t) - B(T-t)*Ko(T-t))'*r + a(T-t) - Ko(T-t)'*b(T-t)\n",
    "r(t)=r_back(T-t)\n",
    "\n",
    "vo(R,B,r,b) = -R\\(B'*r + b)\n",
    "\n",
    "vo(t) = vo(R(t),B(t),r(t),b(t))\n",
    "\n",
    "v(z,Ko,vo) = (-Ko*z) + vec(vo)\n",
    "\n",
    "v(t) = v(z(t),Ko(t),vo(t))\n",
    "\n",
    "dz(z,_,t) = A(t)*z + B(t)*v(z,Ko(t),vo(t))\n",
    "\n",
    "z0 = 0*x0\n",
    "\n",
    "dy1(_,_,t) = a(t)'*z(t) + b(t)'*v(t)\n",
    "\n",
    "dy2(_,_,t) = z(t)'*Qo(t)*z(t) + (2*z(t)'*So(t)*v(t))'[1] + v(t)'*Ro(t)*v(t)\n",
    "\n",
    "gamma = 1\n",
    "\n",
    "al1(x,z)    = x + gamma*z\n",
    "mu1(u,v)    = u + gamma*v\n",
    "u1(x1,Kr,al1,mu1) = mu1 - (Kr*(x1 - al1))\n",
    "\n",
    "al1(t) = x(t) + gamma*z(t)\n",
    "mu1(t) = mu1(u(t),v(t))\n",
    "u1(t) = u1(x1(t),Kr(t),al1(t),mu1(t));\n",
    "\n",
    "\n",
    "dx1(x1,_,t) = f(x1,u1(x1,Kr(t),al1(x(t),z(t)),mu1(u(t),v(t))))\n",
    "dJ1(_,_,t) = 0.01/2*u1(t)'*u1(t) + Qm*1/2*x1(t)'*Qe*x1(t)"
   ]
  },
  {
   "cell_type": "code",
   "execution_count": 8,
   "id": "3b1e3c7e",
   "metadata": {},
   "outputs": [
    {
     "data": {
      "text/plain": [
       "dJ2 (generic function with 1 method)"
      ]
     },
     "execution_count": 8,
     "metadata": {},
     "output_type": "execute_result"
    }
   ],
   "source": [
    "# Newt\n",
    "Ko2(P2,Ro,So,B)= Ro\\(So' + B'*P2)\n",
    "\n",
    "Ko2(t) = Ko2(P2(t),Ro(t),So(t),B(t))\n",
    "\n",
    "dP2(P2,_,t) = A(T-t)'*P2 + P2*A(T-t) - Ko2(P2,Ro(T-t),So(T-t),B(T-t))'*Ro(T-t)*Ko2(P2,Ro(T-t),So(T-t),B(T-t)) + Qo(T-t)\n",
    "P2(t)=P2_back(T-t)\n",
    "\n",
    "P2T = Pf\n",
    "\n",
    "dr2(r2,_,t) = (A(T-t) - B(T-t)*Ko2(T-t))'*r2 + a(T-t) - Ko2(T-t)'*b(T-t)\n",
    "r2(t)=r2_back(T-t)\n",
    "\n",
    "vo2(Ro,B,r2,b) = -Ro\\(B'*r2 + b)\n",
    "\n",
    "vo2(t) = vo2(Ro(t),B(t),r2(t),b(t))\n",
    "\n",
    "v2(z2,Ko2,vo2) = (-Ko2*z2) + vec(vo2)\n",
    "\n",
    "v2(t) = v2(z2(t),Ko2(t),vo2(t))\n",
    "\n",
    "dz2(z2,_,t) = A(t)*z2 + B(t)*v2(z2,Ko2(t),vo2(t))\n",
    "\n",
    "z20 = 0*x0\n",
    "\n",
    "dy12(_,_,t) = a(t)'*z2(t) + b(t)'*v2(t)\n",
    "\n",
    "dy22(_,_,t) = z2(t)'*Qo(t)*z2(t) + (2*z2(t)'*So(t)*v2(t))'[1] + v2(t)'*Ro(t)*v2(t)\n",
    "\n",
    "gamma = 1\n",
    "\n",
    "al2(x,z2)    = x + gamma*z2\n",
    "mu2(u,v2)    = u + gamma*v2\n",
    "u2(x2,Kr,al2,mu2) = mu2 - Kr*(x2 - al2)\n",
    "\n",
    "al2(t) = x(t) + gamma*z2(t)\n",
    "mu2(t) = mu2(u(t),v2(t))\n",
    "u2(t) = u2(x2(t),Kr(t),al2(t),mu2(t));\n",
    "\n",
    "\n",
    "dx2(x2,_,t) = f(x2,u2(x2,Kr(t),al2(x(t),z2(t)),mu2(u(t),v2(t))))\n",
    "dJ2(_,_,t) = 0.01/2*u2(t)'*u2(t) + Qm*1/2*x2(t)'*Qe*x2(t)"
   ]
  },
  {
   "cell_type": "code",
   "execution_count": 9,
   "id": "703e7a0b",
   "metadata": {},
   "outputs": [
    {
     "name": "stderr",
     "output_type": "stream",
     "text": [
      "┌ Warning: dt <= dtmin. Aborting. There is either an error in your model specification or the true solution is unstable.\n",
      "└ @ SciMLBase /Users/jieqiushao/.julia/packages/SciMLBase/h4Gxc/src/integrator_interface.jl:345\n",
      "┌ Warning: dt <= dtmin. Aborting. There is either an error in your model specification or the true solution is unstable.\n",
      "└ @ SciMLBase /Users/jieqiushao/.julia/packages/SciMLBase/h4Gxc/src/integrator_interface.jl:345\n",
      "┌ Warning: dt <= dtmin. Aborting. There is either an error in your model specification or the true solution is unstable.\n",
      "└ @ SciMLBase /Users/jieqiushao/.julia/packages/SciMLBase/h4Gxc/src/integrator_interface.jl:345\n",
      "┌ Warning: dt <= dtmin. Aborting. There is either an error in your model specification or the true solution is unstable.\n",
      "└ @ SciMLBase /Users/jieqiushao/.julia/packages/SciMLBase/h4Gxc/src/integrator_interface.jl:345\n",
      "┌ Warning: dt <= dtmin. Aborting. There is either an error in your model specification or the true solution is unstable.\n",
      "└ @ SciMLBase /Users/jieqiushao/.julia/packages/SciMLBase/h4Gxc/src/integrator_interface.jl:345\n",
      "┌ Warning: dt <= dtmin. Aborting. There is either an error in your model specification or the true solution is unstable.\n",
      "└ @ SciMLBase /Users/jieqiushao/.julia/packages/SciMLBase/h4Gxc/src/integrator_interface.jl:345\n",
      "┌ Warning: dt <= dtmin. Aborting. There is either an error in your model specification or the true solution is unstable.\n",
      "└ @ SciMLBase /Users/jieqiushao/.julia/packages/SciMLBase/h4Gxc/src/integrator_interface.jl:345\n",
      "┌ Warning: dt <= dtmin. Aborting. There is either an error in your model specification or the true solution is unstable.\n",
      "└ @ SciMLBase /Users/jieqiushao/.julia/packages/SciMLBase/h4Gxc/src/integrator_interface.jl:345\n",
      "┌ Warning: dt <= dtmin. Aborting. There is either an error in your model specification or the true solution is unstable.\n",
      "└ @ SciMLBase /Users/jieqiushao/.julia/packages/SciMLBase/h4Gxc/src/integrator_interface.jl:345\n",
      "┌ Warning: dt <= dtmin. Aborting. There is either an error in your model specification or the true solution is unstable.\n",
      "└ @ SciMLBase /Users/jieqiushao/.julia/packages/SciMLBase/h4Gxc/src/integrator_interface.jl:345\n",
      "┌ Warning: dt <= dtmin. Aborting. There is either an error in your model specification or the true solution is unstable.\n",
      "└ @ SciMLBase /Users/jieqiushao/.julia/packages/SciMLBase/h4Gxc/src/integrator_interface.jl:345\n",
      "┌ Warning: dt <= dtmin. Aborting. There is either an error in your model specification or the true solution is unstable.\n",
      "└ @ SciMLBase /Users/jieqiushao/.julia/packages/SciMLBase/h4Gxc/src/integrator_interface.jl:345\n",
      "┌ Warning: dt <= dtmin. Aborting. There is either an error in your model specification or the true solution is unstable.\n",
      "└ @ SciMLBase /Users/jieqiushao/.julia/packages/SciMLBase/h4Gxc/src/integrator_interface.jl:345\n",
      "┌ Warning: dt <= dtmin. Aborting. There is either an error in your model specification or the true solution is unstable.\n",
      "└ @ SciMLBase /Users/jieqiushao/.julia/packages/SciMLBase/h4Gxc/src/integrator_interface.jl:345\n",
      "┌ Warning: dt <= dtmin. Aborting. There is either an error in your model specification or the true solution is unstable.\n",
      "└ @ SciMLBase /Users/jieqiushao/.julia/packages/SciMLBase/h4Gxc/src/integrator_interface.jl:345\n",
      "┌ Warning: Interrupted. Larger maxiters is needed.\n",
      "└ @ SciMLBase /Users/jieqiushao/.julia/packages/SciMLBase/h4Gxc/src/integrator_interface.jl:331\n"
     ]
    }
   ],
   "source": [
    "global Pr_back\n",
    "global x\n",
    "global J\n",
    "global h\n",
    "global q_back\n",
    "global P_back\n",
    "global P2_back\n",
    "global r_back\n",
    "global r2_back\n",
    "global z\n",
    "global z2\n",
    "global y1\n",
    "global y12\n",
    "global y2\n",
    "global y22\n",
    "global Dh\n",
    "global Dg2\n",
    "global x1\n",
    "global x2\n",
    "global J1\n",
    "global J2\n",
    "global g\n",
    "global tt\n",
    "global utt\n",
    "CostH = zeros(20)\n",
    "CostG = zeros(20)\n",
    "Descent = zeros(20)\n",
    "Gam = zeros(20)\n",
    "Method = zeros(20)\n",
    "\n",
    "utt = zeros(m,length(tt))\n",
    "\n",
    "for iter = 1:20\n",
    "\n",
    "    Pr_back = solve(ODEProblem(dPr,Pr_terminal(al(T)),tspan))\n",
    "\n",
    "    x = solve(ODEProblem(dx,x0,tspan))\n",
    "\n",
    "    J = solve(ODEProblem(dJ,0,tspan))\n",
    "\n",
    "    h = J(T) + 1/2*x(T)'*Pf*x(T)\n",
    "    \n",
    "    CostH[iter] = h\n",
    "\n",
    "    q_back = solve(ODEProblem(dq,Pf*al(T),tspan))\n",
    "        \n",
    "    P2_back = solve(ODEProblem(dP2,P2T,tspan),maxiters = 1e3)\n",
    "    \n",
    "    if abs(P2_back.destats.maxeig) < 1e8\n",
    "        \n",
    "        r2_back = solve(ODEProblem(dr2,Pf*al(T),tspan))\n",
    "        \n",
    "        z2 = solve(ODEProblem(dz2,z20,tspan))\n",
    "        \n",
    "        y12 = solve(ODEProblem(dy12,0,tspan))\n",
    "        \n",
    "        y22 = solve(ODEProblem(dy22,0,tspan))\n",
    "        \n",
    "        Dh = y12(T) + (Pf*al(T))'*z2(T)\n",
    "        Dg2 = y22(T) + z2(T)'*Pf*z2(T)\n",
    "    \n",
    "        Descent[iter] = -Dh\n",
    "        \n",
    "        if Descent[iter] < 1e-5\n",
    "            break\n",
    "        end\n",
    "        \n",
    "        Method[iter] = 2\n",
    "\n",
    "        x2 = al\n",
    "        J2 = J\n",
    "        g = h\n",
    "        gamma = 1\n",
    "\n",
    "        for j = 1:10\n",
    "\n",
    "            x2 = solve(ODEProblem(dx2,x0,tspan))\n",
    "\n",
    "            J2 = solve(ODEProblem(dJ2,0,tspan))\n",
    "\n",
    "            g = J2(T) + 1/2*x2(T)'*Pf*x2(T)\n",
    "    \n",
    "            if h-g >= -0.4*gamma*Dh\n",
    "                Gam[iter] = gamma\n",
    "                break\n",
    "            else\n",
    "                gamma = 0.7*gamma\n",
    "            end\n",
    "    \n",
    "        end\n",
    "    \n",
    "        CostG[iter] = g\n",
    "\n",
    "    \n",
    "        for counter = 1:length(tt)\n",
    "            utt[:,counter] = u2(tt[counter])\n",
    "        end\n",
    "    \n",
    "        mu = LinearInterpolation(utt,tt)\n",
    "        al = x2\n",
    "        \n",
    "    else \n",
    "        \n",
    "        P_back = solve(ODEProblem(dP,PT,tspan))\n",
    "\n",
    "        r_back = solve(ODEProblem(dr,Pf*al(T),tspan))\n",
    "\n",
    "        z = solve(ODEProblem(dz,z0,tspan))\n",
    "\n",
    "        y1 = solve(ODEProblem(dy1,0,tspan))\n",
    "\n",
    "        y2 = solve(ODEProblem(dy2,0,tspan))\n",
    "\n",
    "        Dh = y1(T) + (Pf*al(T))'*z(T)\n",
    "        Dg2 = y2(T) + z(T)'*Pf*z(T)\n",
    "    \n",
    "        Descent[iter] = -Dh\n",
    "        \n",
    "        if Descent[iter] < 1e-5\n",
    "            break\n",
    "        end\n",
    "        \n",
    "        Method[iter] = 1\n",
    "\n",
    "        x1 = al\n",
    "        J1 = J\n",
    "        g = h\n",
    "        gamma = 1\n",
    "\n",
    "        for j = 1:10\n",
    "\n",
    "            x1 = solve(ODEProblem(dx1,x0,tspan))\n",
    "\n",
    "            J1 = solve(ODEProblem(dJ1,0,tspan))\n",
    "\n",
    "            g = J1(T) + 1/2*x1(T)'*Pf*x1(T)\n",
    "    \n",
    "            if h-g >= -0.4*gamma*Dh\n",
    "                Gam[iter] = gamma\n",
    "                break\n",
    "            else\n",
    "                gamma = 0.7*gamma\n",
    "            end\n",
    "    \n",
    "        end\n",
    "    \n",
    "        CostG[iter] = g\n",
    "\n",
    "    \n",
    "        for counter = 1:length(tt)\n",
    "            utt[:,counter] = u1(tt[counter])\n",
    "        end\n",
    "    \n",
    "        mu = LinearInterpolation(utt,tt)\n",
    "        al = x1\n",
    "        \n",
    "    end\n",
    "    \n",
    "end"
   ]
  },
  {
   "cell_type": "code",
   "execution_count": 10,
   "id": "b64db35b",
   "metadata": {},
   "outputs": [
    {
     "data": {
      "text/plain": [
       "20-element Vector{Float64}:\n",
       " 0.43131845438085625\n",
       " 0.25692936437001246\n",
       " 0.16860266966749826\n",
       " 0.13513362617394808\n",
       " 0.09857836652608429\n",
       " 0.07253174337964159\n",
       " 0.04456130685778886\n",
       " 0.02122118208795478\n",
       " 0.01797074173521849\n",
       " 0.020165348212987613\n",
       " 0.02179272534107675\n",
       " 0.02221880960251818\n",
       " 0.02169664338505584\n",
       " 0.01747377345434242\n",
       " 0.009028659129185612\n",
       " 6.734977017275448e-5\n",
       " 1.2597223543153798e-6\n",
       " 0.0\n",
       " 0.0\n",
       " 0.0"
      ]
     },
     "execution_count": 10,
     "metadata": {},
     "output_type": "execute_result"
    }
   ],
   "source": [
    "Descent"
   ]
  },
  {
   "cell_type": "code",
   "execution_count": 11,
   "id": "5d7e8104",
   "metadata": {},
   "outputs": [
    {
     "data": {
      "text/plain": [
       "20-element Vector{Float64}:\n",
       " 1.0\n",
       " 1.0\n",
       " 1.0\n",
       " 1.0\n",
       " 1.0\n",
       " 1.0\n",
       " 1.0\n",
       " 1.0\n",
       " 1.0\n",
       " 1.0\n",
       " 1.0\n",
       " 1.0\n",
       " 1.0\n",
       " 1.0\n",
       " 1.0\n",
       " 1.0\n",
       " 0.0\n",
       " 0.0\n",
       " 0.0\n",
       " 0.0"
      ]
     },
     "execution_count": 11,
     "metadata": {},
     "output_type": "execute_result"
    }
   ],
   "source": [
    "Method"
   ]
  },
  {
   "cell_type": "code",
   "execution_count": 12,
   "id": "e81be55a",
   "metadata": {},
   "outputs": [
    {
     "data": {
      "text/plain": [
       "20-element Vector{Float64}:\n",
       " 0.24009999999999992\n",
       " 0.24009999999999992\n",
       " 0.3429999999999999\n",
       " 0.16806999999999994\n",
       " 0.11764899999999995\n",
       " 0.3429999999999999\n",
       " 0.7\n",
       " 0.48999999999999994\n",
       " 0.3429999999999999\n",
       " 0.16806999999999994\n",
       " 0.11764899999999995\n",
       " 0.16806999999999994\n",
       " 0.24009999999999992\n",
       " 0.48999999999999994\n",
       " 1.0\n",
       " 1.0\n",
       " 0.0\n",
       " 0.0\n",
       " 0.0\n",
       " 0.0"
      ]
     },
     "execution_count": 12,
     "metadata": {},
     "output_type": "execute_result"
    }
   ],
   "source": [
    "Gam"
   ]
  },
  {
   "cell_type": "code",
   "execution_count": 13,
   "id": "75579a15",
   "metadata": {},
   "outputs": [],
   "source": [
    "using MAT\n",
    "\n",
    "file = matopen(\"Uopt.mat\", \"w\")\n",
    "write(file, \"Uopt\", utt)\n",
    "close(file)"
   ]
  },
  {
   "cell_type": "code",
   "execution_count": null,
   "id": "74901d83",
   "metadata": {},
   "outputs": [],
   "source": []
  }
 ],
 "metadata": {
  "kernelspec": {
   "display_name": "Julia 1.6.3",
   "language": "julia",
   "name": "julia-1.6"
  },
  "language_info": {
   "file_extension": ".jl",
   "mimetype": "application/julia",
   "name": "julia",
   "version": "1.6.3"
  }
 },
 "nbformat": 4,
 "nbformat_minor": 5
}
