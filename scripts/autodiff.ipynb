{
 "cells": [
  {
   "cell_type": "markdown",
   "metadata": {},
   "source": [
    "# Symbolic Auto-Differentiation\n",
    "\n",
    "Quick crash course on symbolic auto-differentiation in julia using [Symbolics.jl](https://symbolics.juliasymbolics.org/dev/)."
   ]
  },
  {
   "cell_type": "code",
   "execution_count": 148,
   "metadata": {},
   "outputs": [
    {
     "name": "stdout",
     "output_type": "stream",
     "text": [
      "Julia Version 1.7.2\n",
      "Commit bf53498635 (2022-02-06 15:21 UTC)\n",
      "Platform Info:\n",
      "  OS: Linux (x86_64-pc-linux-gnu)\n",
      "  CPU: AMD Ryzen 9 3950X 16-Core Processor\n",
      "  WORD_SIZE: 64\n",
      "  LIBM: libopenlibm\n",
      "  LLVM: libLLVM-12.0.1 (ORCJIT, znver2)\n",
      "versioninfo() = nothing\n",
      "pwd() = \"/home/mantas/.julia/dev/PRONTO.jl/dev\"\n"
     ]
    },
    {
     "name": "stderr",
     "output_type": "stream",
     "text": [
      "\u001b[32m\u001b[1m  Activating\u001b[22m\u001b[39m project at `~/.julia/dev/PRONTO.jl`\n"
     ]
    }
   ],
   "source": [
    "# code setup\n",
    "@show versioninfo()\n",
    "@show pwd()\n",
    "import Pkg; Pkg.activate(\"..\")\n",
    "using Symbolics\n",
    "using Symbolics: derivative\n",
    "using BenchmarkTools"
   ]
  },
  {
   "cell_type": "markdown",
   "metadata": {},
   "source": [
    "Consider the dynamics:\n",
    "$$ \\dot{x} = f(x,u,t) = (H_0 + u H_1) x $$\n",
    "Which we implement like so:"
   ]
  },
  {
   "cell_type": "code",
   "execution_count": 149,
   "metadata": {},
   "outputs": [
    {
     "data": {
      "text/plain": [
       "f (generic function with 1 method)"
      ]
     },
     "execution_count": 149,
     "metadata": {},
     "output_type": "execute_result"
    }
   ],
   "source": [
    "H0 = [0 0 1 0;\n",
    "      0 0 0 -1;\n",
    "     -1 0 0 0;\n",
    "      0 1 0 0]\n",
    "\n",
    "H1 = [0 -1 0 0;\n",
    "      1 0 0 0;\n",
    "      0 0 0 -1;\n",
    "      0 0 1 0]\n",
    "\n",
    "f(x,u,t) = (H0 + u*H1)*x"
   ]
  },
  {
   "cell_type": "markdown",
   "metadata": {},
   "source": [
    "Because the definition for `f(x,u,t)` is generic it will work on all argument types which support addition and multiplication - the operations used inside of the function. For example, numbers or symbolic variables:"
   ]
  },
  {
   "cell_type": "code",
   "execution_count": 150,
   "metadata": {},
   "outputs": [
    {
     "data": {
      "text/plain": [
       "4×4 Matrix{Int64}:\n",
       "  0  -2  1   0\n",
       "  2   0  0  -1\n",
       " -1   0  0  -2\n",
       "  0   1  2   0"
      ]
     },
     "execution_count": 150,
     "metadata": {},
     "output_type": "execute_result"
    }
   ],
   "source": [
    "f(1,2,1)"
   ]
  },
  {
   "cell_type": "code",
   "execution_count": 151,
   "metadata": {},
   "outputs": [
    {
     "data": {
      "text/latex": [
       "\\begin{equation}\n",
       "\\left[\n",
       "\\begin{array}{cccc}\n",
       "0 &  - u x & x & 0 \\\\\n",
       "u x & 0 & 0 &  - x \\\\\n",
       " - x & 0 & 0 &  - u x \\\\\n",
       "0 & x & u x & 0 \\\\\n",
       "\\end{array}\n",
       "\\right]\n",
       "\\end{equation}\n"
      ],
      "text/plain": [
       "4×4 Matrix{Num}:\n",
       "   0  -u*x    x     0\n",
       " u*x     0    0    -x\n",
       "  -x     0    0  -u*x\n",
       "   0     x  u*x     0"
      ]
     },
     "execution_count": 151,
     "metadata": {},
     "output_type": "execute_result"
    }
   ],
   "source": [
    "@variables x u t # make symbolic x,u,t\n",
    "f(x,u,t)"
   ]
  },
  {
   "cell_type": "code",
   "execution_count": 152,
   "metadata": {},
   "outputs": [
    {
     "data": {
      "text/latex": [
       "\\begin{equation}\n",
       "\\left[\n",
       "\\begin{array}{cccc}\n",
       "0 &  - 3 u & 3 & 0 \\\\\n",
       "3 u & 0 & 0 & -3 \\\\\n",
       "-3 & 0 & 0 &  - 3 u \\\\\n",
       "0 & 3 & 3 u & 0 \\\\\n",
       "\\end{array}\n",
       "\\right]\n",
       "\\end{equation}\n"
      ],
      "text/plain": [
       "4×4 Matrix{Num}:\n",
       "  0  -3u   3    0\n",
       " 3u    0   0   -3\n",
       " -3    0   0  -3u\n",
       "  0    3  3u    0"
      ]
     },
     "execution_count": 152,
     "metadata": {},
     "output_type": "execute_result"
    }
   ],
   "source": [
    "f(3,u,\"not used\")"
   ]
  },
  {
   "cell_type": "markdown",
   "metadata": {},
   "source": [
    "Under the hood, julia compiles a copy of machine code optimized to compute each permutation of argument types. Everything works quickly and conveniently. The same is true if we define the derivatives manually."
   ]
  },
  {
   "cell_type": "code",
   "execution_count": 153,
   "metadata": {},
   "outputs": [
    {
     "data": {
      "text/latex": [
       "\\begin{equation}\n",
       "\\left[\n",
       "\\begin{array}{cccc}\n",
       "0 &  - u & 1 & 0 \\\\\n",
       "u & 0 & 0 & -1 \\\\\n",
       "-1 & 0 & 0 &  - u \\\\\n",
       "0 & 1 & u & 0 \\\\\n",
       "\\end{array}\n",
       "\\right]\n",
       "\\end{equation}\n"
      ],
      "text/plain": [
       "4×4 Matrix{Num}:\n",
       "  0  -u  1   0\n",
       "  u   0  0  -1\n",
       " -1   0  0  -u\n",
       "  0   1  u   0"
      ]
     },
     "execution_count": 153,
     "metadata": {},
     "output_type": "execute_result"
    }
   ],
   "source": [
    "fx(x,u,t) = H0 + u*H1\n",
    "fu(x,u,t) = H1*x\n",
    "\n",
    "fx(x,u,t) # called using symbolic x,u,t"
   ]
  },
  {
   "cell_type": "markdown",
   "metadata": {},
   "source": [
    "But what if we want do that automatically for any `f(x,u,t)`? Like Dr. Hauser, Symbolics.jl knows how to take derivatives. So we create a symbolic representation of `f` by calling it with symbolic arguments `(x,u,t)`, and take it's derivative with respect to symbolic `x`. However, this result is not a callable function like it needs to be."
   ]
  },
  {
   "cell_type": "code",
   "execution_count": 154,
   "metadata": {},
   "outputs": [
    {
     "data": {
      "text/latex": [
       "\\begin{equation}\n",
       "\\left[\n",
       "\\begin{array}{cccc}\n",
       "0 &  - u & 1 & 0 \\\\\n",
       "u & 0 & 0 & -1 \\\\\n",
       "-1 & 0 & 0 &  - u \\\\\n",
       "0 & 1 & u & 0 \\\\\n",
       "\\end{array}\n",
       "\\right]\n",
       "\\end{equation}\n"
      ],
      "text/plain": [
       "4×4 Matrix{Num}:\n",
       "  0  -u  1   0\n",
       "  u   0  0  -1\n",
       " -1   0  0  -u\n",
       "  0   1  u   0"
      ]
     },
     "execution_count": 154,
     "metadata": {},
     "output_type": "execute_result"
    }
   ],
   "source": [
    "fx_sym = Symbolics.derivative(f(x,u,t), x) # x,u,t symbolic\n",
    "\n",
    "# fx_sym(x,u,t) # throws error"
   ]
  },
  {
   "cell_type": "markdown",
   "metadata": {},
   "source": [
    "From the [metaprogramming section of the julia manual:](https://docs.julialang.org/en/v1/manual/metaprogramming/)\n",
    "\"Julia represents its own code as a data structure of the language itself. Since code is represented by objects that can be created and manipulated from within the language, it is possible for a program to transform and generate its own code.\"\n",
    "\n",
    "Which is incredibly cool.\n",
    "\n",
    "[Symbolics.jl](https://symbolics.juliasymbolics.org/dev/tutorials/symbolic_functions/) uses this machinery to generate julia code from symbolic expressions."
   ]
  },
  {
   "cell_type": "code",
   "execution_count": 155,
   "metadata": {},
   "outputs": [
    {
     "data": {
      "text/plain": [
       "(:(function (x, u, t)\n",
       "      begin\n",
       "          (SymbolicUtils.Code.create_array)(Array, nothing, Val{2}(), Val{(4, 4)}(), 0, u, -1, 0, (*)(-1, u), 0, 0, 1, 1, 0, 0, u, 0, -1, (*)(-1, u), 0)\n",
       "      end\n",
       "  end), :(function (ˍ₋out, x, u, t)\n",
       "      begin\n",
       "          \u001b[90m#= /home/mantas/.julia/packages/SymbolicUtils/v2ZkM/src/code.jl:398 =#\u001b[39m @inbounds begin\n",
       "                  ˍ₋out[1] = 0\n",
       "                  ˍ₋out[2] = u\n",
       "                  ˍ₋out[3] = -1\n",
       "                  ˍ₋out[4] = 0\n",
       "                  ˍ₋out[5] = (*)(-1, u)\n",
       "                  ˍ₋out[6] = 0\n",
       "                  ˍ₋out[7] = 0\n",
       "                  ˍ₋out[8] = 1\n",
       "                  ˍ₋out[9] = 1\n",
       "                  ˍ₋out[10] = 0\n",
       "                  ˍ₋out[11] = 0\n",
       "                  ˍ₋out[12] = u\n",
       "                  ˍ₋out[13] = 0\n",
       "                  ˍ₋out[14] = -1\n",
       "                  ˍ₋out[15] = (*)(-1, u)\n",
       "                  ˍ₋out[16] = 0\n",
       "                  nothing\n",
       "              end\n",
       "      end\n",
       "  end))"
      ]
     },
     "execution_count": 155,
     "metadata": {},
     "output_type": "execute_result"
    }
   ],
   "source": [
    "fx_exp = build_function(fx_sym, x, u, t)\n",
    "Base.remove_linenums!.(fx_exp)\n",
    "fx_exp"
   ]
  },
  {
   "cell_type": "markdown",
   "metadata": {},
   "source": [
    "`fx_exp` is still not a callable function. Rather, it is an *expression* representing the julia code which defines a function.\n",
    "\n",
    "Technically, `fx_exp` is a tuple containing two expression (`Expr`) objects which define anonymous functions. The first represents the normal version of the function, which generally allocates memory for it's output. The second represents an in-place version, which writes it's output into a pre-allocated container passed as the first argument. By informal convention, the names of in-place functions end with an exclamation point.\n",
    "\n",
    "These expressions can be evaluated, and the resulting anonymous functions bound to variable names. Maybe relevant: functions in julia are [first-class objects](https://en.wikipedia.org/wiki/First-class_citizen)."
   ]
  },
  {
   "cell_type": "code",
   "execution_count": 156,
   "metadata": {},
   "outputs": [
    {
     "data": {
      "text/plain": [
       "#144 (generic function with 1 method)"
      ]
     },
     "execution_count": 156,
     "metadata": {},
     "output_type": "execute_result"
    }
   ],
   "source": [
    "fx_gen = eval(fx_exp[1]) # defines fx_gen(x,u,t)\n",
    "fx_gen! = eval(fx_exp[2]) # defines fx_gen!(out,x,u,t)"
   ]
  },
  {
   "cell_type": "markdown",
   "metadata": {},
   "source": [
    "Now, we can call `fx_gen` as a generic function - as if we had defined it manually."
   ]
  },
  {
   "cell_type": "code",
   "execution_count": 157,
   "metadata": {},
   "outputs": [
    {
     "data": {
      "text/latex": [
       "\\begin{equation}\n",
       "\\left[\n",
       "\\begin{array}{cccc}\n",
       "0 &  - u & 1 & 0 \\\\\n",
       "u & 0 & 0 & -1 \\\\\n",
       "-1 & 0 & 0 &  - u \\\\\n",
       "0 & 1 & u & 0 \\\\\n",
       "\\end{array}\n",
       "\\right]\n",
       "\\end{equation}\n"
      ],
      "text/plain": [
       "4×4 Matrix{Num}:\n",
       "  0  -u  1   0\n",
       "  u   0  0  -1\n",
       " -1   0  0  -u\n",
       "  0   1  u   0"
      ]
     },
     "execution_count": 157,
     "metadata": {},
     "output_type": "execute_result"
    }
   ],
   "source": [
    "fx_gen(x,u,t)"
   ]
  },
  {
   "cell_type": "code",
   "execution_count": 158,
   "metadata": {},
   "outputs": [
    {
     "data": {
      "text/plain": [
       "true"
      ]
     },
     "execution_count": 158,
     "metadata": {},
     "output_type": "execute_result"
    }
   ],
   "source": [
    "fx_gen(1,2,3) == fx(1,2,3)"
   ]
  },
  {
   "cell_type": "markdown",
   "metadata": {},
   "source": [
    "Ok, but that takes 4 steps, which is at least 3 too many...\n",
    "\n",
    "So, why not automate the automatic differentiation process?"
   ]
  },
  {
   "cell_type": "code",
   "execution_count": 159,
   "metadata": {},
   "outputs": [
    {
     "data": {
      "text/plain": [
       "Du (generic function with 1 method)"
      ]
     },
     "execution_count": 159,
     "metadata": {},
     "output_type": "execute_result"
    }
   ],
   "source": [
    "function Dx(f)\n",
    "    @variables x u t\n",
    "    fx_sym = Symbolics.derivative(f(x,u,t), x)\n",
    "    fx_exp = build_function(fx_sym, x, u, t)\n",
    "    return fx_exp isa Expr ? eval(fx_exp) : eval(fx_exp[1])\n",
    "end\n",
    "\n",
    "function Du(f)\n",
    "    @variables x u t\n",
    "    fx_sym = Symbolics.derivative(f(x,u,t), u)\n",
    "    fx_exp = build_function(fx_sym, x, u, t)\n",
    "    return fx_exp isa Expr ? eval(fx_exp) : eval(fx_exp[1])\n",
    "    # return eval(fx_exp[1])\n",
    "end"
   ]
  },
  {
   "cell_type": "code",
   "execution_count": 160,
   "metadata": {},
   "outputs": [
    {
     "data": {
      "text/latex": [
       "\\begin{equation}\n",
       "\\left[\n",
       "\\begin{array}{cccc}\n",
       "0 &  - u & 1 & 0 \\\\\n",
       "u & 0 & 0 & -1 \\\\\n",
       "-1 & 0 & 0 &  - u \\\\\n",
       "0 & 1 & u & 0 \\\\\n",
       "\\end{array}\n",
       "\\right]\n",
       "\\end{equation}\n"
      ],
      "text/plain": [
       "4×4 Matrix{Num}:\n",
       "  0  -u  1   0\n",
       "  u   0  0  -1\n",
       " -1   0  0  -u\n",
       "  0   1  u   0"
      ]
     },
     "execution_count": 160,
     "metadata": {},
     "output_type": "execute_result"
    }
   ],
   "source": [
    "fx_auto = Dx(f) # creates an anonymous function (x,u,t)->(...) and binds it to fx_auto\n",
    "fx_auto(x,u,t) # calls the function bound to fx_auto using the arguments x,u,t, which are currently symbolic variables\n",
    "\n",
    "# or, if we want to be fancy\n",
    "Dx(f)(x,u,t)"
   ]
  },
  {
   "cell_type": "markdown",
   "metadata": {},
   "source": [
    "And it works! Note that as written, these methods are limited to 3-argument functions of the form `f(x,u,t)` which **must** return an array. However, they are still quite useful:"
   ]
  },
  {
   "cell_type": "code",
   "execution_count": 177,
   "metadata": {},
   "outputs": [
    {
     "data": {
      "text/plain": [
       "#198 (generic function with 1 method)"
      ]
     },
     "execution_count": 177,
     "metadata": {},
     "output_type": "execute_result"
    }
   ],
   "source": [
    "fxx = Dx(Dx(f))\n",
    "fxu = Dx(Du(f))\n",
    "fuu = Du(Du(f))"
   ]
  },
  {
   "cell_type": "code",
   "execution_count": 178,
   "metadata": {},
   "outputs": [
    {
     "data": {
      "text/plain": [
       "4×4 Matrix{Int64}:\n",
       " 0  -1  0   0\n",
       " 1   0  0   0\n",
       " 0   0  0  -1\n",
       " 0   0  1   0"
      ]
     },
     "execution_count": 178,
     "metadata": {},
     "output_type": "execute_result"
    }
   ],
   "source": [
    "fxu(x,u,t)"
   ]
  },
  {
   "cell_type": "code",
   "execution_count": 179,
   "metadata": {},
   "outputs": [
    {
     "data": {
      "text/plain": [
       "true"
      ]
     },
     "execution_count": 179,
     "metadata": {},
     "output_type": "execute_result"
    }
   ],
   "source": [
    "fxu(x,u,t) == H1"
   ]
  },
  {
   "cell_type": "markdown",
   "metadata": {},
   "source": [
    "If we want to support a different function signature, we could hack it together using multiple dispatch:"
   ]
  },
  {
   "cell_type": "code",
   "execution_count": 173,
   "metadata": {},
   "outputs": [
    {
     "data": {
      "text/latex": [
       "\\begin{equation}\n",
       "\\left[\n",
       "\\begin{array}{c}\n",
       "60 x^{2} \\\\\n",
       "\\end{array}\n",
       "\\right]\n",
       "\\end{equation}\n"
      ],
      "text/plain": [
       "1-element Vector{Num}:\n",
       " 60(x^2)"
      ]
     },
     "execution_count": 173,
     "metadata": {},
     "output_type": "execute_result"
    }
   ],
   "source": [
    "m(x) = [x^5] # our \"real\" function -> must return an array\n",
    "m(x,u,t) = m(x) # form-matching definition\n",
    "Dx(Dx(Dx(m)))(x,u,t)"
   ]
  },
  {
   "cell_type": "markdown",
   "metadata": {},
   "source": [
    "What about speed? Because the auto-diff machinery doesn't have to worry about human-readability, or code length, it can potentially generate more efficient function definitions than you can. Especially where array operation reductions are involved. At least with this example, the auto-diff version of the function runs **2~3x faster** than the manual definition. "
   ]
  },
  {
   "cell_type": "code",
   "execution_count": 169,
   "metadata": {},
   "outputs": [
    {
     "data": {
      "text/plain": [
       "BenchmarkTools.Trial: 10000 samples with 852 evaluations.\n",
       " Range \u001b[90m(\u001b[39m\u001b[36m\u001b[1mmin\u001b[22m\u001b[39m … \u001b[35mmax\u001b[39m\u001b[90m):  \u001b[39m\u001b[36m\u001b[1m142.850 ns\u001b[22m\u001b[39m … \u001b[35m  4.327 μs\u001b[39m  \u001b[90m┊\u001b[39m GC \u001b[90m(\u001b[39mmin … max\u001b[90m): \u001b[39m 0.00% … 93.37%\n",
       " Time  \u001b[90m(\u001b[39m\u001b[34m\u001b[1mmedian\u001b[22m\u001b[39m\u001b[90m):     \u001b[39m\u001b[34m\u001b[1m157.372 ns               \u001b[22m\u001b[39m\u001b[90m┊\u001b[39m GC \u001b[90m(\u001b[39mmedian\u001b[90m):    \u001b[39m 0.00%\n",
       " Time  \u001b[90m(\u001b[39m\u001b[32m\u001b[1mmean\u001b[22m\u001b[39m ± \u001b[32mσ\u001b[39m\u001b[90m):   \u001b[39m\u001b[32m\u001b[1m195.054 ns\u001b[22m\u001b[39m ± \u001b[32m283.495 ns\u001b[39m  \u001b[90m┊\u001b[39m GC \u001b[90m(\u001b[39mmean ± σ\u001b[90m):  \u001b[39m10.32% ±  6.81%\n",
       "\n",
       "  \u001b[39m \u001b[39m \u001b[39m \u001b[39m▇\u001b[39m▄\u001b[39m \u001b[39m▃\u001b[34m█\u001b[39m\u001b[39m \u001b[39m \u001b[39m \u001b[39m \u001b[39m \u001b[39m \u001b[39m \u001b[39m \u001b[39m \u001b[39m \u001b[39m \u001b[39m \u001b[39m \u001b[39m \u001b[39m \u001b[39m \u001b[39m \u001b[39m \u001b[32m \u001b[39m\u001b[39m \u001b[39m \u001b[39m \u001b[39m \u001b[39m \u001b[39m \u001b[39m \u001b[39m \u001b[39m \u001b[39m \u001b[39m \u001b[39m \u001b[39m \u001b[39m \u001b[39m \u001b[39m \u001b[39m \u001b[39m \u001b[39m \u001b[39m \u001b[39m \u001b[39m \u001b[39m \u001b[39m \u001b[39m \u001b[39m \u001b[39m \u001b[39m \u001b[39m \u001b[39m \u001b[39m \u001b[39m \u001b[39m \u001b[39m \u001b[39m \u001b[39m \n",
       "  \u001b[39m▁\u001b[39m▂\u001b[39m▆\u001b[39m█\u001b[39m█\u001b[39m▅\u001b[39m█\u001b[34m█\u001b[39m\u001b[39m▄\u001b[39m▃\u001b[39m▃\u001b[39m▃\u001b[39m▃\u001b[39m▃\u001b[39m▂\u001b[39m▂\u001b[39m▁\u001b[39m▁\u001b[39m▁\u001b[39m▁\u001b[39m▁\u001b[39m▁\u001b[39m▁\u001b[39m▁\u001b[39m▁\u001b[39m▁\u001b[32m▁\u001b[39m\u001b[39m▁\u001b[39m▁\u001b[39m▁\u001b[39m▁\u001b[39m▁\u001b[39m▁\u001b[39m▁\u001b[39m▂\u001b[39m▃\u001b[39m▃\u001b[39m▂\u001b[39m▂\u001b[39m▃\u001b[39m▄\u001b[39m▃\u001b[39m▃\u001b[39m▃\u001b[39m▂\u001b[39m▂\u001b[39m▂\u001b[39m▂\u001b[39m▂\u001b[39m▂\u001b[39m▁\u001b[39m▂\u001b[39m▁\u001b[39m▁\u001b[39m▁\u001b[39m▁\u001b[39m▁\u001b[39m▁\u001b[39m▁\u001b[39m▁\u001b[39m▁\u001b[39m \u001b[39m▂\n",
       "  143 ns\u001b[90m           Histogram: frequency by time\u001b[39m          264 ns \u001b[0m\u001b[1m<\u001b[22m\n",
       "\n",
       " Memory estimate\u001b[90m: \u001b[39m\u001b[33m384 bytes\u001b[39m, allocs estimate\u001b[90m: \u001b[39m\u001b[33m2\u001b[39m."
      ]
     },
     "execution_count": 169,
     "metadata": {},
     "output_type": "execute_result"
    }
   ],
   "source": [
    "@benchmark fx(1,2,3)"
   ]
  },
  {
   "cell_type": "code",
   "execution_count": 170,
   "metadata": {},
   "outputs": [
    {
     "data": {
      "text/plain": [
       "BenchmarkTools.Trial: 10000 samples with 986 evaluations.\n",
       " Range \u001b[90m(\u001b[39m\u001b[36m\u001b[1mmin\u001b[22m\u001b[39m … \u001b[35mmax\u001b[39m\u001b[90m):  \u001b[39m\u001b[36m\u001b[1m51.405 ns\u001b[22m\u001b[39m … \u001b[35m  4.071 μs\u001b[39m  \u001b[90m┊\u001b[39m GC \u001b[90m(\u001b[39mmin … max\u001b[90m): \u001b[39m 0.00% … 97.24%\n",
       " Time  \u001b[90m(\u001b[39m\u001b[34m\u001b[1mmedian\u001b[22m\u001b[39m\u001b[90m):     \u001b[39m\u001b[34m\u001b[1m56.851 ns               \u001b[22m\u001b[39m\u001b[90m┊\u001b[39m GC \u001b[90m(\u001b[39mmedian\u001b[90m):    \u001b[39m 0.00%\n",
       " Time  \u001b[90m(\u001b[39m\u001b[32m\u001b[1mmean\u001b[22m\u001b[39m ± \u001b[32mσ\u001b[39m\u001b[90m):   \u001b[39m\u001b[32m\u001b[1m76.585 ns\u001b[22m\u001b[39m ± \u001b[32m187.313 ns\u001b[39m  \u001b[90m┊\u001b[39m GC \u001b[90m(\u001b[39mmean ± σ\u001b[90m):  \u001b[39m13.22% ±  5.31%\n",
       "\n",
       "  \u001b[39m▁\u001b[39m▅\u001b[39m▇\u001b[39m█\u001b[39m█\u001b[34m█\u001b[39m\u001b[39m▇\u001b[39m▄\u001b[39m▁\u001b[39m \u001b[39m▁\u001b[39m▁\u001b[39m▁\u001b[39m▁\u001b[39m▂\u001b[39m▁\u001b[39m▁\u001b[39m▁\u001b[39m \u001b[39m \u001b[39m \u001b[39m \u001b[39m \u001b[39m \u001b[39m \u001b[32m \u001b[39m\u001b[39m \u001b[39m \u001b[39m \u001b[39m \u001b[39m \u001b[39m \u001b[39m \u001b[39m▁\u001b[39m▂\u001b[39m▃\u001b[39m▄\u001b[39m▅\u001b[39m▄\u001b[39m▄\u001b[39m▄\u001b[39m▄\u001b[39m▃\u001b[39m▃\u001b[39m▂\u001b[39m▁\u001b[39m▁\u001b[39m▁\u001b[39m▁\u001b[39m▁\u001b[39m▁\u001b[39m \u001b[39m \u001b[39m \u001b[39m \u001b[39m \u001b[39m \u001b[39m \u001b[39m \u001b[39m \u001b[39m \u001b[39m▂\n",
       "  \u001b[39m█\u001b[39m█\u001b[39m█\u001b[39m█\u001b[39m█\u001b[34m█\u001b[39m\u001b[39m█\u001b[39m█\u001b[39m█\u001b[39m█\u001b[39m█\u001b[39m█\u001b[39m█\u001b[39m█\u001b[39m█\u001b[39m█\u001b[39m█\u001b[39m█\u001b[39m▇\u001b[39m▇\u001b[39m▆\u001b[39m▆\u001b[39m▆\u001b[39m▆\u001b[39m▄\u001b[32m▅\u001b[39m\u001b[39m▅\u001b[39m▆\u001b[39m▄\u001b[39m▄\u001b[39m▂\u001b[39m▅\u001b[39m█\u001b[39m█\u001b[39m█\u001b[39m█\u001b[39m█\u001b[39m█\u001b[39m█\u001b[39m█\u001b[39m█\u001b[39m█\u001b[39m█\u001b[39m█\u001b[39m█\u001b[39m█\u001b[39m█\u001b[39m█\u001b[39m█\u001b[39m█\u001b[39m█\u001b[39m█\u001b[39m▇\u001b[39m█\u001b[39m█\u001b[39m█\u001b[39m▇\u001b[39m▇\u001b[39m▇\u001b[39m▆\u001b[39m \u001b[39m█\n",
       "  51.4 ns\u001b[90m       \u001b[39m\u001b[90mHistogram: \u001b[39m\u001b[90m\u001b[1mlog(\u001b[22m\u001b[39m\u001b[90mfrequency\u001b[39m\u001b[90m\u001b[1m)\u001b[22m\u001b[39m\u001b[90m by time\u001b[39m       111 ns \u001b[0m\u001b[1m<\u001b[22m\n",
       "\n",
       " Memory estimate\u001b[90m: \u001b[39m\u001b[33m192 bytes\u001b[39m, allocs estimate\u001b[90m: \u001b[39m\u001b[33m1\u001b[39m."
      ]
     },
     "execution_count": 170,
     "metadata": {},
     "output_type": "execute_result"
    }
   ],
   "source": [
    "@benchmark fx_auto(1,2,3)"
   ]
  },
  {
   "cell_type": "markdown",
   "metadata": {},
   "source": [
    "The in-place version is **more than 10x faster!**"
   ]
  },
  {
   "cell_type": "code",
   "execution_count": 171,
   "metadata": {},
   "outputs": [
    {
     "data": {
      "text/plain": [
       "BenchmarkTools.Trial: 10000 samples with 999 evaluations.\n",
       " Range \u001b[90m(\u001b[39m\u001b[36m\u001b[1mmin\u001b[22m\u001b[39m … \u001b[35mmax\u001b[39m\u001b[90m):  \u001b[39m\u001b[36m\u001b[1m12.325 ns\u001b[22m\u001b[39m … \u001b[35m56.321 ns\u001b[39m  \u001b[90m┊\u001b[39m GC \u001b[90m(\u001b[39mmin … max\u001b[90m): \u001b[39m0.00% … 0.00%\n",
       " Time  \u001b[90m(\u001b[39m\u001b[34m\u001b[1mmedian\u001b[22m\u001b[39m\u001b[90m):     \u001b[39m\u001b[34m\u001b[1m12.947 ns              \u001b[22m\u001b[39m\u001b[90m┊\u001b[39m GC \u001b[90m(\u001b[39mmedian\u001b[90m):    \u001b[39m0.00%\n",
       " Time  \u001b[90m(\u001b[39m\u001b[32m\u001b[1mmean\u001b[22m\u001b[39m ± \u001b[32mσ\u001b[39m\u001b[90m):   \u001b[39m\u001b[32m\u001b[1m13.266 ns\u001b[22m\u001b[39m ± \u001b[32m 1.548 ns\u001b[39m  \u001b[90m┊\u001b[39m GC \u001b[90m(\u001b[39mmean ± σ\u001b[90m):  \u001b[39m0.00% ± 0.00%\n",
       "\n",
       "  \u001b[39m \u001b[39m▄\u001b[39m▆\u001b[39m█\u001b[34m█\u001b[39m\u001b[39m▄\u001b[32m▆\u001b[39m\u001b[39m█\u001b[39m▁\u001b[39m \u001b[39m \u001b[39m \u001b[39m \u001b[39m \u001b[39m \u001b[39m \u001b[39m \u001b[39m \u001b[39m \u001b[39m \u001b[39m \u001b[39m \u001b[39m \u001b[39m \u001b[39m \u001b[39m \u001b[39m▁\u001b[39m \u001b[39m \u001b[39m \u001b[39m \u001b[39m \u001b[39m \u001b[39m \u001b[39m \u001b[39m \u001b[39m \u001b[39m \u001b[39m \u001b[39m \u001b[39m \u001b[39m \u001b[39m \u001b[39m \u001b[39m \u001b[39m \u001b[39m \u001b[39m \u001b[39m \u001b[39m \u001b[39m \u001b[39m \u001b[39m \u001b[39m \u001b[39m \u001b[39m \u001b[39m \u001b[39m \u001b[39m \u001b[39m \u001b[39m▂\n",
       "  \u001b[39m█\u001b[39m█\u001b[39m█\u001b[39m█\u001b[34m█\u001b[39m\u001b[39m█\u001b[32m█\u001b[39m\u001b[39m█\u001b[39m█\u001b[39m█\u001b[39m▄\u001b[39m▅\u001b[39m▆\u001b[39m▆\u001b[39m▆\u001b[39m▇\u001b[39m█\u001b[39m▇\u001b[39m▇\u001b[39m▇\u001b[39m▇\u001b[39m▇\u001b[39m▅\u001b[39m▆\u001b[39m▇\u001b[39m▁\u001b[39m█\u001b[39m▁\u001b[39m▁\u001b[39m▁\u001b[39m▁\u001b[39m▁\u001b[39m▁\u001b[39m▁\u001b[39m▁\u001b[39m▁\u001b[39m▁\u001b[39m▁\u001b[39m▁\u001b[39m▁\u001b[39m▁\u001b[39m▃\u001b[39m▄\u001b[39m▄\u001b[39m▄\u001b[39m▅\u001b[39m▅\u001b[39m▄\u001b[39m▄\u001b[39m▁\u001b[39m▃\u001b[39m▄\u001b[39m▄\u001b[39m▃\u001b[39m▃\u001b[39m▆\u001b[39m▇\u001b[39m▇\u001b[39m▇\u001b[39m \u001b[39m█\n",
       "  12.3 ns\u001b[90m      \u001b[39m\u001b[90mHistogram: \u001b[39m\u001b[90m\u001b[1mlog(\u001b[22m\u001b[39m\u001b[90mfrequency\u001b[39m\u001b[90m\u001b[1m)\u001b[22m\u001b[39m\u001b[90m by time\u001b[39m        21 ns \u001b[0m\u001b[1m<\u001b[22m\n",
       "\n",
       " Memory estimate\u001b[90m: \u001b[39m\u001b[33m0 bytes\u001b[39m, allocs estimate\u001b[90m: \u001b[39m\u001b[33m0\u001b[39m."
      ]
     },
     "execution_count": 171,
     "metadata": {},
     "output_type": "execute_result"
    }
   ],
   "source": [
    "out = zeros(4,4)\n",
    "@benchmark fx_gen!(out,1,2,3)"
   ]
  }
 ],
 "metadata": {
  "kernelspec": {
   "display_name": "Julia 1.7.2",
   "language": "julia",
   "name": "julia-1.7"
  },
  "language_info": {
   "file_extension": ".jl",
   "mimetype": "application/julia",
   "name": "julia",
   "version": "1.7.2"
  },
  "orig_nbformat": 4
 },
 "nbformat": 4,
 "nbformat_minor": 2
}
