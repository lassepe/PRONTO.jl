{
 "cells": [
  {
   "cell_type": "code",
   "execution_count": 20,
   "metadata": {},
   "outputs": [
    {
     "name": "stdout",
     "output_type": "stream",
     "text": [
      "Julia Version 1.7.2\n",
      "Commit bf53498635 (2022-02-06 15:21 UTC)\n",
      "Platform Info:\n",
      "  OS: Linux (x86_64-pc-linux-gnu)\n",
      "  CPU: AMD Ryzen 9 3950X 16-Core Processor\n",
      "  WORD_SIZE: 64\n",
      "  LIBM: libopenlibm\n",
      "  LLVM: libLLVM-12.0.1 (ORCJIT, znver2)\n",
      "versioninfo() = nothing\n",
      "pwd() = \"/home/mantas/.julia/dev/PRONTO.jl/scripts\"\n"
     ]
    },
    {
     "name": "stderr",
     "output_type": "stream",
     "text": [
      "\u001b[32m\u001b[1m  Activating\u001b[22m\u001b[39m project at `~/.julia/dev/PRONTO.jl`\n"
     ]
    }
   ],
   "source": [
    "# code setup\n",
    "@show versioninfo()\n",
    "@show pwd()\n",
    "import Pkg; Pkg.activate(\"..\")\n",
    "using Symbolics\n",
    "using Symbolics: jacobian, derivative\n",
    "using BenchmarkTools"
   ]
  },
  {
   "cell_type": "code",
   "execution_count": 29,
   "metadata": {},
   "outputs": [
    {
     "data": {
      "text/latex": [
       "\\begin{equation}\n",
       "\\left[\n",
       "\\begin{array}{c}\n",
       "x_2 \\\\\n",
       "4.905 \\sin\\left( x_1 \\right) - \\frac{1}{2} u \\cos\\left( x_1 \\right) \\\\\n",
       "\\end{array}\n",
       "\\right]\n",
       "\\end{equation}\n"
      ],
      "text/plain": [
       "2-element Vector{Num}:\n",
       " x[2]\n",
       "    4.905sin(x[1]) - (1//2)*u*cos(x[1])"
      ]
     },
     "execution_count": 29,
     "metadata": {},
     "output_type": "execute_result"
    }
   ],
   "source": [
    "# to compare against PRONTO for Dummies\n",
    "\n",
    "# dynamics\n",
    "g = 9.81;\n",
    "L = 2;\n",
    "\n",
    "# f(x,u,t) = f(x(t), u(t))\n",
    "f(x,u) = [x[2];   g/L*sin(x[1])-u*cos(x[1])/L]\n",
    "# f(x,u) = [x[1]; x[2]]\n",
    "@variables x[1:2] u\n",
    "f(x,u)"
   ]
  },
  {
   "cell_type": "code",
   "execution_count": 30,
   "metadata": {},
   "outputs": [
    {
     "name": "stdout",
     "output_type": "stream",
     "text": [
      "dx[2]/dx[1]\n",
      "dx[2]/dx[2]\n",
      "d4.905sin(x[1]) - (1//2)*u*cos(x[1])/dx[1]\n",
      "d4.905sin(x[1]) - (1//2)*u*cos(x[1])/dx[2]\n"
     ]
    }
   ],
   "source": [
    "for g in f(x,u)\n",
    "    for x in x\n",
    "        println(\"d$g/d$x\")\n",
    "    end\n",
    "    # println(g)\n",
    "end\n",
    "\n"
   ]
  },
  {
   "cell_type": "code",
   "execution_count": 47,
   "metadata": {},
   "outputs": [
    {
     "data": {
      "text/latex": [
       "\\begin{equation}\n",
       "\\left[\n",
       "\\begin{array}{cc}\n",
       "0 & 1 \\\\\n",
       "4.905 \\cos\\left( x_1 \\right) + \\frac{1}{2} u \\sin\\left( x_1 \\right) & 0 \\\\\n",
       "\\end{array}\n",
       "\\right]\n",
       "\\end{equation}\n"
      ],
      "text/plain": [
       "2×2 Matrix{Num}:\n",
       " 0                                    1\n",
       " 4.905cos(x[1]) + (1//2)*u*sin(x[1])  0"
      ]
     },
     "execution_count": 47,
     "metadata": {},
     "output_type": "execute_result"
    }
   ],
   "source": [
    "fx_sym = hcat(map(1:2) do i\n",
    "    map(1:2) do j\n",
    "        derivative(f(x,u)[j],x[i])\n",
    "    end\n",
    "end...)"
   ]
  },
  {
   "cell_type": "code",
   "execution_count": 50,
   "metadata": {},
   "outputs": [
    {
     "data": {
      "text/plain": [
       "#48 (generic function with 1 method)"
      ]
     },
     "execution_count": 50,
     "metadata": {},
     "output_type": "execute_result"
    }
   ],
   "source": [
    "fx = eval(build_function(fx_sym, x, u)[1])"
   ]
  },
  {
   "cell_type": "code",
   "execution_count": 51,
   "metadata": {},
   "outputs": [
    {
     "data": {
      "text/latex": [
       "\\begin{equation}\n",
       "\\left[\n",
       "\\begin{array}{cc}\n",
       "0 & 1 \\\\\n",
       "4.905 \\cos\\left( x_1 \\right) + \\frac{1}{2} u \\sin\\left( x_1 \\right) & 0 \\\\\n",
       "\\end{array}\n",
       "\\right]\n",
       "\\end{equation}\n"
      ],
      "text/plain": [
       "2×2 Matrix{Num}:\n",
       " 0                                    1\n",
       " 4.905cos(x[1]) + (1//2)*u*sin(x[1])  0"
      ]
     },
     "execution_count": 51,
     "metadata": {},
     "output_type": "execute_result"
    }
   ],
   "source": [
    "fx(x,u)"
   ]
  },
  {
   "cell_type": "code",
   "execution_count": null,
   "metadata": {},
   "outputs": [],
   "source": [
    "\n",
    "# incremental cost\n",
    "Q = eye(2);\n",
    "R = 1;\n",
    "\n",
    "l(x,u,t) = l(x(t), u(t))\n",
    "l(x,u) = 1/2*x'*Q*x + 1/2*R*u^2\n",
    "\n",
    "\n",
    "# states/allocations\n",
    "# x: [2,1]xT\n",
    "# u: 1xT"
   ]
  }
 ],
 "metadata": {
  "kernelspec": {
   "display_name": "Julia (headless) 1.7.2",
   "language": "julia",
   "name": "julia-(headless)-1.7"
  },
  "language_info": {
   "file_extension": ".jl",
   "mimetype": "application/julia",
   "name": "julia",
   "version": "1.7.2"
  },
  "orig_nbformat": 4
 },
 "nbformat": 4,
 "nbformat_minor": 2
}
